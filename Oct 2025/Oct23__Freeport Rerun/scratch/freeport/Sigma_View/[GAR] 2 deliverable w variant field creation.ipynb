{
 "cells": [
  {
   "cell_type": "code",
   "execution_count": 0,
   "metadata": {
    "application/vnd.databricks.v1+cell": {
     "cellMetadata": {
      "byteLimit": 2048000,
      "rowLimit": 10000
     },
     "inputWidgets": {},
     "nuid": "7e68740c-2e88-44cc-a41c-26981c294a66",
     "showTitle": false,
     "tableResultSettingsMap": {},
     "title": ""
    }
   },
   "outputs": [],
   "source": [
    "%run /Workspace/setup_serverless"
   ]
  },
  {
   "cell_type": "code",
   "execution_count": 0,
   "metadata": {
    "application/vnd.databricks.v1+cell": {
     "cellMetadata": {
      "byteLimit": 2048000,
      "rowLimit": 10000
     },
     "inputWidgets": {},
     "nuid": "3db3223e-7d71-4f94-b655-089622480cd1",
     "showTitle": false,
     "tableResultSettingsMap": {},
     "title": ""
    }
   },
   "outputs": [],
   "source": [
    "import sys\n",
    "\n",
    "#sys.path.append('/Workspace/Users/erubio@yipitdata.com/freeport_service/')\n",
    "\n",
    "sys.path.append(\"/Workspace/Repos/ETL_Production/freeport_service/\")\n",
    "\n",
    "from freeport_databricks.client.v1 import (\n",
    "    get_or_create_deliverable,\n",
    "    materialize_deliverable,\n",
    "    release_materialization,\n",
    "    list_deliverable_materializations,\n",
    "    get_or_create_query_template,\n",
    "    get_or_create_deliverable_group,\n",
    "    sql_from_query_template\n",
    "    \n",
    ")\n",
    "\n",
    "from freeport_databricks.client.api_client import (\n",
    "    get,\n",
    "    FREEPORT_DOMAIN\n",
    ")\n",
    "import json\n",
    "import time\n",
    "\n",
    "FREEPORT_DOMAIN"
   ]
  },
  {
   "cell_type": "code",
   "execution_count": 0,
   "metadata": {
    "application/vnd.databricks.v1+cell": {
     "cellMetadata": {
      "byteLimit": 2048000,
      "implicitDf": true,
      "rowLimit": 10000
     },
     "inputWidgets": {},
     "nuid": "d7e16750-bb7f-4437-b6c1-ffbccac4b208",
     "showTitle": false,
     "tableResultSettingsMap": {},
     "title": ""
    }
   },
   "outputs": [],
   "source": [
    "%sql\n",
    "describe table yd_production.data_engineering_sandbox.variant_coltype_test_deliverable"
   ]
  },
  {
   "cell_type": "markdown",
   "metadata": {
    "application/vnd.databricks.v1+cell": {
     "cellMetadata": {},
     "inputWidgets": {},
     "nuid": "8033b124-0d36-49bb-9a14-b9211b88b07a",
     "showTitle": false,
     "tableResultSettingsMap": {},
     "title": ""
    }
   },
   "source": [
    "if model version is expected to have schema changes keep an eye to set `allow_major_version = True` and `allow_minor_version = True`"
   ]
  },
  {
   "cell_type": "code",
   "execution_count": 0,
   "metadata": {
    "application/vnd.databricks.v1+cell": {
     "cellMetadata": {
      "byteLimit": 2048000,
      "rowLimit": 10000
     },
     "inputWidgets": {},
     "nuid": "4b29f7bc-6e21-41e5-87ec-ccc177ae2502",
     "showTitle": false,
     "tableResultSettingsMap": {},
     "title": ""
    }
   },
   "outputs": [],
   "source": [
    "deliverable = get_or_create_deliverable(\n",
    "    title=\"variant_column_test_deliverable2\",\n",
    "    input_tables=\"yd_production.data_engineering_sandbox.variant_coltype_test_deliverable\",\n",
    "    output_table=\"yd_fp_investor_staging.data_engineering_sandbox.variant_coltype_test_deliverable_deliverable2\",\n",
    "    query_template=120,\n",
    "    slug=\"variant_column_test_deliverable2\", \n",
    "    allow_major_version=True,\n",
    "    allow_minor_version=True,\n",
    ")"
   ]
  },
  {
   "cell_type": "code",
   "execution_count": 0,
   "metadata": {
    "application/vnd.databricks.v1+cell": {
     "cellMetadata": {
      "byteLimit": 2048000,
      "rowLimit": 10000
     },
     "inputWidgets": {},
     "nuid": "7c4abe50-9078-416a-8e4f-010bdc3a315d",
     "showTitle": false,
     "tableResultSettingsMap": {},
     "title": ""
    }
   },
   "outputs": [],
   "source": [
    "model_version = deliverable['id']"
   ]
  },
  {
   "cell_type": "code",
   "execution_count": 0,
   "metadata": {
    "application/vnd.databricks.v1+cell": {
     "cellMetadata": {
      "byteLimit": 2048000,
      "rowLimit": 10000
     },
     "inputWidgets": {},
     "nuid": "d9574e0f-a43b-4c9c-acdb-3f060020a05c",
     "showTitle": false,
     "tableResultSettingsMap": {},
     "title": ""
    }
   },
   "outputs": [],
   "source": [
    "materialization = materialize_deliverable(model_version)"
   ]
  },
  {
   "cell_type": "code",
   "execution_count": 0,
   "metadata": {
    "application/vnd.databricks.v1+cell": {
     "cellMetadata": {
      "byteLimit": 2048000,
      "rowLimit": 10000
     },
     "inputWidgets": {},
     "nuid": "4b9ca648-06c3-42cd-a81d-268bf5706cee",
     "showTitle": false,
     "tableResultSettingsMap": {},
     "title": ""
    }
   },
   "outputs": [],
   "source": [
    "materialization_id = materialization['id']"
   ]
  },
  {
   "cell_type": "code",
   "execution_count": 0,
   "metadata": {
    "application/vnd.databricks.v1+cell": {
     "cellMetadata": {
      "byteLimit": 2048000,
      "rowLimit": 10000
     },
     "inputWidgets": {},
     "nuid": "1ee58996-0948-417d-a58c-909618b7d562",
     "showTitle": false,
     "tableResultSettingsMap": {},
     "title": ""
    }
   },
   "outputs": [],
   "source": [
    "release_materialization(materialization_id)"
   ]
  },
  {
   "cell_type": "markdown",
   "metadata": {
    "application/vnd.databricks.v1+cell": {
     "cellMetadata": {},
     "inputWidgets": {},
     "nuid": "3304e610-d2db-4640-b0fc-4ce2e4f4e84b",
     "showTitle": false,
     "tableResultSettingsMap": {},
     "title": ""
    }
   },
   "source": [
    "fetching latest table version, a release should have been completed before fetching the latest table"
   ]
  },
  {
   "cell_type": "code",
   "execution_count": 0,
   "metadata": {
    "application/vnd.databricks.v1+cell": {
     "cellMetadata": {
      "byteLimit": 2048000,
      "rowLimit": 10000
     },
     "inputWidgets": {},
     "nuid": "d9e0e10a-d934-4b4c-9185-ca65b9fceb48",
     "showTitle": false,
     "tableResultSettingsMap": {},
     "title": ""
    }
   },
   "outputs": [],
   "source": [
    "while True:\n",
    "    response = get(f\"api/v1/data_model/fp_materialization/{materialization_id}\")\n",
    "    print(response)\n",
    "    \n",
    "    last_fp_release = response.json()[\"last_fp_release\"]\n",
    "    if last_fp_release:\n",
    "\n",
    "        if last_fp_release['airflow_status'] == \"success\":\n",
    "            print(f\"last FP Release ready\")\n",
    "            break\n",
    "        elif last_fp_release['airflow_status']  == \"failed\":\n",
    "            print(\"FP Release failed!\")\n",
    "            break\n",
    "        \n",
    "        print(\"Release still running. Waiting 45 seconds...\")\n",
    "        time.sleep(45)\n",
    "\n",
    "    else:\n",
    "        print(\"No releases found. Waiting 45 seconds...\")\n",
    "        time.sleep(45)"
   ]
  },
  {
   "cell_type": "code",
   "execution_count": 0,
   "metadata": {
    "application/vnd.databricks.v1+cell": {
     "cellMetadata": {
      "byteLimit": 2048000,
      "rowLimit": 10000
     },
     "inputWidgets": {},
     "nuid": "010f4641-5752-4e49-9ef3-52c6d1421336",
     "showTitle": false,
     "tableResultSettingsMap": {},
     "title": ""
    }
   },
   "outputs": [],
   "source": [
    "latest_table_name = last_fp_release['view_details']['table_name']\n",
    "latest_catalog = last_fp_release['view_details']['catalog_name']\n",
    "latest_database = last_fp_release['view_details']['database_name']\n",
    "\n",
    "latest_table = f\"{latest_catalog}.{latest_database}.{latest_table_name}\"\n",
    "print(f\"latest table: {latest_table}\")"
   ]
  },
  {
   "cell_type": "markdown",
   "metadata": {
    "application/vnd.databricks.v1+cell": {
     "cellMetadata": {},
     "inputWidgets": {},
     "nuid": "642aa8ff-5339-4713-8a68-fd1be4cbc904",
     "showTitle": false,
     "tableResultSettingsMap": {},
     "title": ""
    }
   },
   "source": [
    "Add QA on latest table to double check new view source"
   ]
  },
  {
   "cell_type": "code",
   "execution_count": 0,
   "metadata": {
    "application/vnd.databricks.v1+cell": {
     "cellMetadata": {
      "byteLimit": 2048000,
      "implicitDf": true,
      "rowLimit": 10000
     },
     "inputWidgets": {},
     "nuid": "409a251b-0555-4c22-bfb4-b7a54bd216d4",
     "showTitle": false,
     "tableResultSettingsMap": {
      "0": {
       "dataGridStateBlob": "{\"version\":1,\"tableState\":{\"columnPinning\":{\"left\":[\"#row_number#\"],\"right\":[]},\"columnSizing\":{},\"columnVisibility\":{}},\"settings\":{\"columns\":{}},\"syncTimestamp\":1759351018313}",
       "filterBlob": null,
       "queryPlanFiltersBlob": null,
       "tableResultIndex": 0
      }
     },
     "title": ""
    }
   },
   "outputs": [],
   "source": [
    "%sql\n",
    "--HERE CREATE OR REPLACE VIEW AFTER QA\n",
    "select *\n",
    "from yd_fp_investor_staging.data_engineering_sandbox.variant_coltype_test_deliverable_deliverable__dmv__001 limit 40"
   ]
  },
  {
   "cell_type": "code",
   "execution_count": 0,
   "metadata": {
    "application/vnd.databricks.v1+cell": {
     "cellMetadata": {
      "byteLimit": 2048000,
      "implicitDf": true,
      "rowLimit": 10000
     },
     "inputWidgets": {},
     "nuid": "69af4aa2-35d7-4c25-a574-f4194c1776d3",
     "showTitle": false,
     "tableResultSettingsMap": {},
     "title": ""
    }
   },
   "outputs": [],
   "source": [
    "%sql\n",
    "describe table yd_fp_investor_staging.data_engineering_sandbox.variant_coltype_test_deliverable_deliverable__dmv__001"
   ]
  }
 ],
 "metadata": {
  "application/vnd.databricks.v1+notebook": {
   "computePreferences": {
    "hardware": {
     "accelerator": null,
     "gpuPoolId": null,
     "memory": null
    }
   },
   "dashboards": [],
   "environmentMetadata": {
    "base_environment": "",
    "environment_version": "3"
   },
   "inputWidgetPreferences": null,
   "language": "python",
   "notebookMetadata": {
    "mostRecentlyExecutedCommandWithImplicitDF": {
     "commandId": 6590557577104743,
     "dataframes": [
      "_sqldf"
     ]
    },
    "pythonIndentUnit": 4
   },
   "notebookName": "[GAR] 2 deliverable w variant field creation",
   "widgets": {}
  },
  "language_info": {
   "name": "python"
  }
 },
 "nbformat": 4,
 "nbformat_minor": 0
}
