{
 "cells": [
  {
   "cell_type": "markdown",
   "metadata": {
    "application/vnd.databricks.v1+cell": {
     "cellMetadata": {},
     "inputWidgets": {},
     "nuid": "bd960043-14e7-4ffe-8dc5-3d08da97174f",
     "showTitle": false,
     "tableResultSettingsMap": {},
     "title": ""
    }
   },
   "source": [
    "# parallel freeport\n",
    "\n",
    "## 🚀 Quick Start\n",
    "\n",
    "This notebook provides centralized functions for generating client dashboard exports WITH PARALLELIZATION.\n",
    "\n",
    "**Main Functions:**\n",
    "- `run_everything_parallel(demo_name)` - Complete dashboard generation with parallel execution\n",
    "- `run_everything_parallel_internally(demo_name)` - Internal development version with parallelization\n",
    "\n",
    "**Key Improvements:**\n",
    "- ✅ Parallel execution of independent modules\n",
    "- ✅ Faster overall execution time\n",
    "- ✅ Thread-safe operations\n",
    "- ✅ Error handling for individual module failures\n",
    "\n",
    "---"
   ]
  },
  {
   "cell_type": "code",
   "execution_count": 0,
   "metadata": {
    "application/vnd.databricks.v1+cell": {
     "cellMetadata": {
      "byteLimit": 2048000,
      "rowLimit": 10000
     },
     "inputWidgets": {},
     "nuid": "8507be25-102d-4642-a38b-4e495fea40c5",
     "showTitle": false,
     "tableResultSettingsMap": {},
     "title": ""
    }
   },
   "outputs": [],
   "source": [
    "import ast\n",
    "import calendar\n",
    "import pandas as pd\n",
    "from datetime import datetime, timedelta\n",
    "from pyspark.sql import SparkSession\n",
    "from pyspark.sql.functions import col, row_number, lit, lower, to_timestamp\n",
    "from pyspark.sql.window import Window\n",
    "from yipit_databricks_utils.helpers.gsheets import read_gsheet\n",
    "from concurrent.futures import ThreadPoolExecutor, as_completed\n",
    "import traceback"
   ]
  },
  {
   "cell_type": "code",
   "execution_count": 0,
   "metadata": {
    "application/vnd.databricks.v1+cell": {
     "cellMetadata": {
      "byteLimit": 2048000,
      "rowLimit": 10000
     },
     "inputWidgets": {},
     "nuid": "9e220447-3b05-463a-bd6e-6be81e02a5da",
     "showTitle": false,
     "tableResultSettingsMap": {},
     "title": ""
    }
   },
   "outputs": [],
   "source": [
    "%run \"/Workspace/Users/pfisch@yipitdata.com/corporate_transformation_blueprints/corporate_transformation_blueprints/scratch_pfisch/freeport/after__template/freeport2\""
   ]
  },
  {
   "cell_type": "code",
   "execution_count": 0,
   "metadata": {
    "application/vnd.databricks.v1+cell": {
     "cellMetadata": {
      "byteLimit": 2048000,
      "rowLimit": 10000
     },
     "collapsed": true,
     "inputWidgets": {},
     "nuid": "c1d5ac26-7929-463a-8cca-a3e2210bb0f1",
     "showTitle": false,
     "tableResultSettingsMap": {},
     "title": ""
    }
   },
   "outputs": [],
   "source": [
    "def execute_with_error_handling(func, func_name, *args, **kwargs):\n",
    "    \"\"\"\n",
    "    Wrapper function to execute a function with error handling\n",
    "\n",
    "    Args:\n",
    "        func: Function to execute\n",
    "        func_name: Name of the function (for logging)\n",
    "        *args: Positional arguments for the function\n",
    "        **kwargs: Keyword arguments for the function\n",
    "\n",
    "    Returns:\n",
    "        tuple: (success: bool, result: any, error: str)\n",
    "    \"\"\"\n",
    "    try:\n",
    "        print(f\"🔄 Starting: {func_name}\")\n",
    "        result = func(*args, **kwargs)\n",
    "        print(f\"✅ Completed: {func_name}\")\n",
    "        return (True, result, None)\n",
    "    except Exception as e:\n",
    "        error_msg = f\"❌ Error in {func_name}: {str(e)}\\n{traceback.format_exc()}\"\n",
    "        print(error_msg)\n",
    "        return (False, None, error_msg)"
   ]
  },
  {
   "cell_type": "code",
   "execution_count": 0,
   "metadata": {
    "application/vnd.databricks.v1+cell": {
     "cellMetadata": {
      "byteLimit": 2048000,
      "rowLimit": 10000
     },
     "inputWidgets": {},
     "nuid": "0cba1921-4a0f-472c-98d0-1fbdfa84ecd9",
     "showTitle": false,
     "tableResultSettingsMap": {},
     "title": ""
    }
   },
   "outputs": [],
   "source": [
    "client = dbutils.widgets.get(\"client_name\")\n",
    "print(client)"
   ]
  },
  {
   "cell_type": "code",
   "execution_count": 0,
   "metadata": {
    "application/vnd.databricks.v1+cell": {
     "cellMetadata": {
      "byteLimit": 2048000,
      "rowLimit": 10000
     },
     "inputWidgets": {},
     "nuid": "760fb911-bb11-40af-b026-0a233cd06060",
     "showTitle": false,
     "tableResultSettingsMap": {},
     "title": ""
    }
   },
   "outputs": [],
   "source": [
    "demo_name = client + \"_v38\"\n",
    "sandbox_schema = \"ydx_internal_analysts_sandbox\"\n",
    "prod_schema = \"ydx_internal_analysts_gold\"\n",
    "\n",
    "market_share = True\n",
    "shopper_insights = True\n",
    "pro_module = True\n",
    "pricing_n_promo = True\n",
    "\n",
    "\n",
    "max_workers = 4\n",
    "\n",
    "results = {}\n",
    "\n",
    "# ============================================\n",
    "# PHASE 2: Parallel Execution of Independent Modules\n",
    "# These can run in parallel\n",
    "# ============================================\n",
    "print(\"=\" * 80)\n",
    "print(\"🚀 PHASE 1: Running Parallel Modules\")\n",
    "print(\"=\" * 80)\n",
    "\n",
    "parallel_tasks = []\n",
    "\n",
    "# freeport_module(sandbox_schema, prod_schema, demo_name, \"geographic_analysis\")\n",
    "# Collect tasks that can run in parallel\n",
    "\n",
    "# ============================================================================\n",
    "# CORE TABLES\n",
    "# ============================================================================\n",
    "# Foundation tables used across all analysis modules\n",
    "\n",
    "parallel_tasks.append({\n",
    "    \"func\": freeport_module,\n",
    "    \"name\": freeport_module,\n",
    "    \"args\": (sandbox_schema, prod_schema, demo_name, \"filter_items\")})\n",
    "\n",
    "parallel_tasks.append({\n",
    "    \"func\": freeport_module,\n",
    "    \"name\": freeport_module,\n",
    "    \"args\": (sandbox_schema, prod_schema, demo_name, \"client_specs\")})\n",
    "\n",
    "parallel_tasks.append({\n",
    "    \"func\": freeport_module,\n",
    "    \"name\": freeport_module,\n",
    "    \"args\": (sandbox_schema, prod_schema, demo_name, \"panel_stats\")})\n",
    "    \n",
    "parallel_tasks.append({\n",
    "    \"func\": freeport_module,\n",
    "    \"name\": freeport_module,\n",
    "    \"args\": (sandbox_schema, prod_schema, demo_name,\"sample_size_guardrail\")})\n",
    "\n",
    "\n",
    "# ============================================================================\n",
    "# ANALYSIS MODULES\n",
    "# ============================================================================\n",
    "\n",
    "# ----------------------------------------------------------------------------\n",
    "# GEO - Geographic Analysis\n",
    "# ----------------------------------------------------------------------------\n",
    "\n",
    "parallel_tasks.append({\n",
    "    \"func\": freeport_module,\n",
    "    \"name\": freeport_module,\n",
    "    \"args\": (sandbox_schema, prod_schema, demo_name, \"geographic_analysis\")})\n",
    "\n",
    "# ----------------------------------------------------------------------------\n",
    "# MARKET SHARE\n",
    "# ----------------------------------------------------------------------------\n",
    "# Note: Market Share tables with LOOP are excluded from this config\n",
    "# They require special handling for dynamic column generation:\n",
    "#   - market_share_for_column (with LOOP)\n",
    "#   - market_share_for_column_nrf (with LOOP)\n",
    "#   - market_share_for_column_std (with LOOP)\n",
    "\n",
    "\n",
    "# ----------------------------------------------------------------------------\n",
    "# PRO INSIGHTS\n",
    "# ----------------------------------------------------------------------------\n",
    "\n",
    "parallel_tasks.append({\n",
    "    \"func\": freeport_module,\n",
    "    \"name\": freeport_module,\n",
    "    \"args\": (sandbox_schema, prod_schema, demo_name, \"pro_insights\")})\n",
    "\n",
    "\n",
    "# ----------------------------------------------------------------------------\n",
    "# PRODUCT ANALYSIS (SKU)\n",
    "# ----------------------------------------------------------------------------\n",
    "\n",
    "parallel_tasks.append({\n",
    "    \"func\": freeport_module,\n",
    "    \"name\": freeport_module,\n",
    "    \"args\": (sandbox_schema, prod_schema, demo_name, \"sku_analysis\")})\n",
    "\n",
    "parallel_tasks.append({\n",
    "    \"func\": freeport_module,\n",
    "    \"name\": freeport_module,\n",
    "    \"args\": (sandbox_schema, prod_schema, demo_name, \"sku_time_series\")})\n",
    "\n",
    "parallel_tasks.append({\n",
    "    \"func\": freeport_module,\n",
    "    \"name\": freeport_module,\n",
    "    \"args\": (sandbox_schema, prod_schema, demo_name, \"sku_detail\")})\n",
    "\n",
    "\n",
    "# ----------------------------------------------------------------------------\n",
    "# RET LEAKAGE (Retail Leakage Analysis)\n",
    "# ----------------------------------------------------------------------------\n",
    "\n",
    "parallel_tasks.append({\n",
    "    \"func\": freeport_module,\n",
    "    \"name\": freeport_module,\n",
    "    \"args\": (sandbox_schema, prod_schema, demo_name, \"leakage_users\")})\n",
    "\n",
    "parallel_tasks.append({\n",
    "    \"func\": freeport_module,\n",
    "    \"name\": freeport_module,\n",
    "    \"args\": (sandbox_schema, prod_schema, demo_name, \"leakage_retailer\")})\n",
    "\n",
    "parallel_tasks.append({\n",
    "    \"func\": freeport_module,\n",
    "    \"name\": freeport_module,\n",
    "    \"args\": (sandbox_schema, prod_schema, demo_name, \"category_closure\")})\n",
    "\n",
    "parallel_tasks.append({\n",
    "    \"func\": freeport_module,\n",
    "    \"name\": freeport_module,\n",
    "    \"args\": (sandbox_schema, prod_schema, demo_name, \"leakage_product\")})\n",
    "\n",
    "parallel_tasks.append({\n",
    "    \"func\": freeport_module,\n",
    "    \"name\": freeport_module,\n",
    "    \"args\": (sandbox_schema, prod_schema, demo_name, \"market_share\")})\n",
    "\n",
    "# ----------------------------------------------------------------------------\n",
    "# SHOPPER INSIGHTS\n",
    "# ----------------------------------------------------------------------------\n",
    "\n",
    "parallel_tasks.append({\n",
    "    \"func\": freeport_module,\n",
    "    \"name\": freeport_module,\n",
    "    \"args\": (sandbox_schema, prod_schema, demo_name,  \"shopper_filter_items\")})\n",
    "\n",
    "# ----------------------------------------------------------------------------\n",
    "# TARIFFS\n",
    "# ----------------------------------------------------------------------------\n",
    "\n",
    "parallel_tasks.append({\n",
    "    \"func\": freeport_module,\n",
    "    \"name\": freeport_module,\n",
    "    \"args\": (sandbox_schema, prod_schema, demo_name, \"tariffs_month_grouping\")})\n",
    "\n",
    "parallel_tasks.append({\n",
    "    \"func\": freeport_module,\n",
    "    \"name\": freeport_module,\n",
    "    \"args\": (sandbox_schema, prod_schema, demo_name, \"tariffs_month_stable_products_list\")})\n",
    "\n",
    "parallel_tasks.append({\n",
    "    \"func\": freeport_module,\n",
    "    \"name\": freeport_module,\n",
    "    \"args\": (sandbox_schema, prod_schema, demo_name, \"tariffs_month_product_filled_prices\")})\n",
    "\n",
    "# Execute tasks in parallel\n",
    "with ThreadPoolExecutor(max_workers=max_workers) as executor:\n",
    "    future_to_task = {\n",
    "        executor.submit(\n",
    "            execute_with_error_handling,\n",
    "            task[\"func\"],\n",
    "            task[\"name\"],\n",
    "            *task[\"args\"]\n",
    "        ): task[\"name\"]\n",
    "        for task in parallel_tasks\n",
    "    }\n",
    "\n",
    "    for future in as_completed(future_to_task):\n",
    "        task_name = future_to_task[future]\n",
    "        success, result, error = future.result()\n",
    "        results[task_name] = {\"success\": success, \"error\": error}\n",
    "\n",
    "# ============================================\n",
    "# Summary Report\n",
    "# ============================================\n",
    "print(\"=\" * 80)\n",
    "print(\"📈 EXECUTION SUMMARY\")\n",
    "print(\"=\" * 80)\n",
    "\n",
    "total_tasks = len(results)\n",
    "successful_tasks = sum(1 for r in results.values() if r[\"success\"])\n",
    "failed_tasks = total_tasks - successful_tasks\n",
    "\n",
    "print(f\"✅ Successful: {successful_tasks}/{total_tasks}\")\n",
    "print(f\"❌ Failed: {failed_tasks}/{total_tasks}\")\n",
    "print()\n",
    "\n",
    "if failed_tasks > 0:\n",
    "    print(\"❌ Failed Modules:\")\n",
    "    for module, result in results.items():\n",
    "        if not result[\"success\"]:\n",
    "            print(f\"  - {module}\")\n",
    "            if result[\"error\"]:\n",
    "                print(f\"    Error: {result['error'][:200]}...\")\n",
    "\n",
    "print(\"=\" * 80)"
   ]
  }
 ],
 "metadata": {
  "application/vnd.databricks.v1+notebook": {
   "computePreferences": {
    "hardware": {
     "accelerator": null,
     "gpuPoolId": null,
     "memory": null
    }
   },
   "dashboards": [],
   "environmentMetadata": {
    "base_environment": "dbe_053a50e8-a70d-4683-bdc4-f45d512682bd",
    "environment_version": "1"
   },
   "inputWidgetPreferences": null,
   "language": "python",
   "notebookMetadata": {
    "pythonIndentUnit": 4
   },
   "notebookName": "Paralell freeport",
   "widgets": {
    "client_name": {
     "currentValue": "testblueprints",
     "nuid": "e35676a3-3d83-4dcc-935b-379765bb33a9",
     "typedWidgetInfo": {
      "autoCreated": false,
      "defaultValue": "",
      "label": "",
      "name": "client_name",
      "options": {
       "widgetDisplayType": "Text",
       "validationRegex": null
      },
      "parameterDataType": "String"
     },
     "widgetInfo": {
      "widgetType": "text",
      "defaultValue": "",
      "label": "",
      "name": "client_name",
      "options": {
       "widgetType": "text",
       "autoCreated": false,
       "validationRegex": null
      }
     }
    }
   }
  },
  "language_info": {
   "name": "python"
  }
 },
 "nbformat": 4,
 "nbformat_minor": 0
}
