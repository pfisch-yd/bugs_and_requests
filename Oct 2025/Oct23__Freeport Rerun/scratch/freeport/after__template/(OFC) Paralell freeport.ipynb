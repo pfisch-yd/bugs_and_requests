{
 "cells": [
  {
   "cell_type": "code",
   "execution_count": 0,
   "metadata": {
    "application/vnd.databricks.v1+cell": {
     "cellMetadata": {
      "byteLimit": 2048000,
      "rowLimit": 10000
     },
     "inputWidgets": {},
     "nuid": "8507be25-102d-4642-a38b-4e495fea40c5",
     "showTitle": false,
     "tableResultSettingsMap": {},
     "title": ""
    }
   },
   "outputs": [],
   "source": [
    "import ast\n",
    "import calendar\n",
    "import pandas as pd\n",
    "from datetime import datetime, timedelta\n",
    "from pyspark.sql import SparkSession\n",
    "from pyspark.sql.functions import col, row_number, lit, lower, to_timestamp\n",
    "from pyspark.sql.window import Window\n",
    "from yipit_databricks_utils.helpers.gsheets import read_gsheet\n",
    "from concurrent.futures import ThreadPoolExecutor, as_completed\n",
    "import traceback"
   ]
  },
  {
   "cell_type": "code",
   "execution_count": 0,
   "metadata": {
    "application/vnd.databricks.v1+cell": {
     "cellMetadata": {
      "byteLimit": 2048000,
      "rowLimit": 10000
     },
     "inputWidgets": {},
     "nuid": "9e220447-3b05-463a-bd6e-6be81e02a5da",
     "showTitle": false,
     "tableResultSettingsMap": {},
     "title": ""
    }
   },
   "outputs": [],
   "source": [
    "%run \"/Workspace/Users/pfisch@yipitdata.com/corporate_transformation_blueprints/corporate_transformation_blueprints/retail_analytics_platform/freeport/module_template_function\""
   ]
  },
  {
   "cell_type": "code",
   "execution_count": 0,
   "metadata": {
    "application/vnd.databricks.v1+cell": {
     "cellMetadata": {
      "byteLimit": 2048000,
      "rowLimit": 10000
     },
     "inputWidgets": {},
     "nuid": "c1d5ac26-7929-463a-8cca-a3e2210bb0f1",
     "showTitle": false,
     "tableResultSettingsMap": {},
     "title": ""
    }
   },
   "outputs": [],
   "source": [
    "def execute_with_error_handling(func, func_name, *args, **kwargs):\n",
    "    \"\"\"\n",
    "    Wrapper function to execute a function with error handling\n",
    "\n",
    "    Args:\n",
    "        func: Function to execute\n",
    "        func_name: Name of the function (for logging)\n",
    "        *args: Positional arguments for the function\n",
    "        **kwargs: Keyword arguments for the function\n",
    "\n",
    "    Returns:\n",
    "        tuple: (success: bool, result: any, error: str)\n",
    "    \"\"\"\n",
    "    try:\n",
    "        print(f\"🔄 Starting: {func_name} : {args}\")\n",
    "        result = func(*args, **kwargs)\n",
    "        print(f\"✅ Completed: {func_name} : {args}\")\n",
    "        return (True, result, None)\n",
    "    except Exception as e:\n",
    "        error_msg = f\"❌ Error in {func_name}: {str(e)}\\n{traceback.format_exc()}\"\n",
    "        print(error_msg)\n",
    "        return (False, None, error_msg)"
   ]
  },
  {
   "cell_type": "code",
   "execution_count": 0,
   "metadata": {
    "application/vnd.databricks.v1+cell": {
     "cellMetadata": {
      "byteLimit": 2048000,
      "rowLimit": 10000
     },
     "inputWidgets": {},
     "nuid": "0cba1921-4a0f-472c-98d0-1fbdfa84ecd9",
     "showTitle": false,
     "tableResultSettingsMap": {},
     "title": ""
    }
   },
   "outputs": [],
   "source": [
    "client = dbutils.widgets.get(\"client_name\")\n",
    "print(client)"
   ]
  },
  {
   "cell_type": "code",
   "execution_count": 0,
   "metadata": {
    "application/vnd.databricks.v1+cell": {
     "cellMetadata": {
      "byteLimit": 2048000,
      "rowLimit": 10000
     },
     "inputWidgets": {},
     "nuid": "760fb911-bb11-40af-b026-0a233cd06060",
     "showTitle": false,
     "tableResultSettingsMap": {},
     "title": ""
    }
   },
   "outputs": [],
   "source": [
    "demo_name = client + \"_v38\"\n",
    "sandbox_schema = \"ydx_internal_analysts_sandbox\"\n",
    "prod_schema = \"ydx_internal_analysts_gold\"\n",
    "\n",
    "# special_attribute_column = ['size', 'chemical_form']\n",
    "special_attribute_column = []\n",
    "special_attribute_column.append(\"null\")\n",
    "\n",
    "market_share = True\n",
    "shopper_insights = True\n",
    "pro_module = True\n",
    "pricing_n_promo = True\n",
    "\n",
    "\n",
    "max_workers = 4\n",
    "\n",
    "results = {}\n",
    "\n",
    "# ============================================\n",
    "# PHASE 2: Parallel Execution of Independent Modules\n",
    "# These can run in parallel\n",
    "# ============================================\n",
    "print(\"=\" * 80)\n",
    "print(\"🚀 PHASE 1: Running Parallel Modules\")\n",
    "print(\"=\" * 80)\n",
    "\n",
    "parallel_tasks = []\n",
    "\n"
   ]
  },
  {
   "cell_type": "code",
   "execution_count": 0,
   "metadata": {
    "application/vnd.databricks.v1+cell": {
     "cellMetadata": {
      "byteLimit": 2048000,
      "rowLimit": 10000
     },
     "inputWidgets": {},
     "nuid": "5403c402-a689-4759-8b31-3ac8f3e47a82",
     "showTitle": false,
     "tableResultSettingsMap": {},
     "title": ""
    }
   },
   "outputs": [],
   "source": [
    "for column in special_attribute_column:\n",
    "    print(column)\n",
    "    \n",
    "    parallel_tasks.append({\n",
    "    \"func\": freeport_module,\n",
    "    \"name\": \"market_share_standard_calendar\"+column,\n",
    "    \"args\": (sandbox_schema, prod_schema, demo_name, \"market_share_standard_calendar\", False, 0.01,column)})\n",
    "\n",
    "    parallel_tasks.append({\n",
    "    \"func\": freeport_module,\n",
    "    \"name\": \"market_share_nrf_calendar\"+column,\n",
    "    \"args\": (sandbox_schema, prod_schema, demo_name, \"market_share_nrf_calendar\", False, 0.01,column)})\n",
    "\n",
    "    parallel_tasks.append({\n",
    "    \"func\": freeport_module,\n",
    "    \"name\": \"market_share_for_column\"+column,\n",
    "    \"args\": (sandbox_schema, prod_schema, demo_name, \"market_share_for_column\", False, 0.01,column)})"
   ]
  },
  {
   "cell_type": "code",
   "execution_count": 0,
   "metadata": {
    "application/vnd.databricks.v1+cell": {
     "cellMetadata": {
      "byteLimit": 2048000,
      "rowLimit": 10000
     },
     "inputWidgets": {},
     "nuid": "b0b171af-d361-4b76-bc6c-ec4402e2fdaa",
     "showTitle": false,
     "tableResultSettingsMap": {},
     "title": ""
    }
   },
   "outputs": [],
   "source": [
    "# freeport_module(sandbox_schema, prod_schema, demo_name, \"geographic_analysis\")\n",
    "# Collect tasks that can run in parallel\n",
    "\n",
    "# ============================================================================\n",
    "# CORE TABLES\n",
    "# ============================================================================\n",
    "# Foundation tables used across all analysis modules\n",
    "\n",
    "parallel_tasks.append({\n",
    "    \"func\": freeport_module,\n",
    "    \"name\": \"filter_items\",\n",
    "    \"args\": (sandbox_schema, prod_schema, demo_name, \"filter_items\")})\n",
    "\n",
    "parallel_tasks.append({\n",
    "    \"func\": freeport_module,\n",
    "    \"name\": \"client_specs\",\n",
    "    \"args\": (sandbox_schema, prod_schema, demo_name, \"client_specs\")})\n",
    "\n",
    "parallel_tasks.append({\n",
    "    \"func\": freeport_module,\n",
    "    \"name\": \"panel_stats\",\n",
    "    \"args\": (sandbox_schema, prod_schema, demo_name, \"panel_stats\")})\n",
    "    \n",
    "parallel_tasks.append({\n",
    "    \"func\": freeport_module,\n",
    "    \"name\": \"sample_size_guardrail\",\n",
    "    \"args\": (sandbox_schema, prod_schema, demo_name,\"sample_size_guardrail\")})\n",
    "\n",
    "\n",
    "# ============================================================================\n",
    "# ANALYSIS MODULES\n",
    "# ============================================================================\n",
    "\n",
    "# ----------------------------------------------------------------------------\n",
    "# GEO - Geographic Analysis\n",
    "# ----------------------------------------------------------------------------\n",
    "\n",
    "parallel_tasks.append({\n",
    "    \"func\": freeport_module,\n",
    "    \"name\": \"geographic_analysis\",\n",
    "    \"args\": (sandbox_schema, prod_schema, demo_name, \"geographic_analysis\")})\n",
    "\n",
    "# ----------------------------------------------------------------------------\n",
    "# MARKET SHARE\n",
    "# ----------------------------------------------------------------------------\n",
    "# Note: Market Share tables with LOOP are excluded from this config\n",
    "# They require special handling for dynamic column generation:\n",
    "#   - market_share_for_column (with LOOP)\n",
    "#   - market_share_for_column_nrf (with LOOP)\n",
    "#   - market_share_for_column_std (with LOOP)\n",
    "\n",
    "\n",
    "# ----------------------------------------------------------------------------\n",
    "# PRO INSIGHTS\n",
    "# ----------------------------------------------------------------------------\n",
    "\n",
    "parallel_tasks.append({\n",
    "    \"func\": freeport_module,\n",
    "    \"name\": \"pro_insights\",\n",
    "    \"args\": (sandbox_schema, prod_schema, demo_name, \"pro_insights\")})\n",
    "\n",
    "\n",
    "# ----------------------------------------------------------------------------\n",
    "# PRODUCT ANALYSIS (SKU)\n",
    "# ----------------------------------------------------------------------------\n",
    "\n",
    "parallel_tasks.append({\n",
    "    \"func\": freeport_module,\n",
    "    \"name\": \"sku_analysis\",\n",
    "    \"args\": (sandbox_schema, prod_schema, demo_name, \"sku_analysis\")})\n",
    "\n",
    "parallel_tasks.append({\n",
    "    \"func\": freeport_module,\n",
    "    \"name\": \"sku_time_series\",\n",
    "    \"args\": (sandbox_schema, prod_schema, demo_name, \"sku_time_series\")})\n",
    "\n",
    "parallel_tasks.append({\n",
    "    \"func\": freeport_module,\n",
    "    \"name\": \"sku_detail\",\n",
    "    \"args\": (sandbox_schema, prod_schema, demo_name, \"sku_detail\")})\n",
    "\n",
    "\n",
    "# ----------------------------------------------------------------------------\n",
    "# RET LEAKAGE (Retail Leakage Analysis)\n",
    "# ----------------------------------------------------------------------------\n",
    "\n",
    "parallel_tasks.append({\n",
    "    \"func\": freeport_module,\n",
    "    \"name\": \"leakage_users\",\n",
    "    \"args\": (sandbox_schema, prod_schema, demo_name, \"leakage_users\")})\n",
    "\n",
    "parallel_tasks.append({\n",
    "    \"func\": freeport_module,\n",
    "    \"name\": \"leakage_retailer\",\n",
    "    \"args\": (sandbox_schema, prod_schema, demo_name, \"leakage_retailer\")})\n",
    "\n",
    "parallel_tasks.append({\n",
    "    \"func\": freeport_module,\n",
    "    \"name\": \"category_closure\",\n",
    "    \"args\": (sandbox_schema, prod_schema, demo_name, \"category_closure\")})\n",
    "\n",
    "parallel_tasks.append({\n",
    "    \"func\": freeport_module,\n",
    "    \"name\": \"leakage_product\",\n",
    "    \"args\": (sandbox_schema, prod_schema, demo_name, \"leakage_product\")})\n",
    "\n",
    "parallel_tasks.append({\n",
    "    \"func\": freeport_module,\n",
    "    \"name\": \"market_share\",\n",
    "    \"args\": (sandbox_schema, prod_schema, demo_name, \"market_share\")})\n",
    "\n",
    "# ----------------------------------------------------------------------------\n",
    "# SHOPPER INSIGHTS\n",
    "# ----------------------------------------------------------------------------\n",
    "\n",
    "parallel_tasks.append({\n",
    "    \"func\": freeport_module,\n",
    "    \"name\": \"shopper_filter_items\",\n",
    "    \"args\": (sandbox_schema, prod_schema, demo_name,  \"shopper_filter_items\")})\n",
    "\n",
    "# ----------------------------------------------------------------------------\n",
    "# TARIFFS\n",
    "# ----------------------------------------------------------------------------\n",
    "\n",
    "parallel_tasks.append({\n",
    "    \"func\": freeport_module,\n",
    "    \"name\": \"tariffs_month_grouping\",\n",
    "    \"args\": (sandbox_schema, prod_schema, demo_name, \"tariffs_month_grouping\")})\n",
    "\n",
    "parallel_tasks.append({\n",
    "    \"func\": freeport_module,\n",
    "    \"name\": \"tariffs_month_stable_products_list\",\n",
    "    \"args\": (sandbox_schema, prod_schema, demo_name, \"tariffs_month_stable_products_list\")})\n",
    "\n",
    "parallel_tasks.append({\n",
    "    \"func\": freeport_module,\n",
    "    \"name\": \"tariffs_month_product_filled_prices\",\n",
    "    \"args\": (sandbox_schema, prod_schema, demo_name, \"tariffs_month_product_filled_prices\")})\n",
    "\n",
    "parallel_tasks.append({\n",
    "    \"func\": freeport_module,\n",
    "    \"name\": \"tariffs_week_grouping\",\n",
    "    \"args\": (sandbox_schema, prod_schema, demo_name, \"tariffs_week_grouping\")})\n",
    "\n",
    "parallel_tasks.append({\n",
    "    \"func\": freeport_module,\n",
    "    \"name\": \"tariffs_week_stable_products_list\",\n",
    "    \"args\": (sandbox_schema, prod_schema, demo_name, \"tariffs_week_stable_products_list\")})\n",
    "\n",
    "parallel_tasks.append({\n",
    "    \"func\": freeport_module,\n",
    "    \"name\": \"tariffs_week_product_filled_prices\",\n",
    "    \"args\": (sandbox_schema, prod_schema, demo_name, \"tariffs_week_product_filled_prices\")})\n"
   ]
  },
  {
   "cell_type": "code",
   "execution_count": 0,
   "metadata": {
    "application/vnd.databricks.v1+cell": {
     "cellMetadata": {
      "byteLimit": 2048000,
      "rowLimit": 10000
     },
     "inputWidgets": {},
     "nuid": "ea279911-c74e-44b6-a76f-3c1fb135d711",
     "showTitle": false,
     "tableResultSettingsMap": {},
     "title": ""
    }
   },
   "outputs": [],
   "source": []
  },
  {
   "cell_type": "code",
   "execution_count": 0,
   "metadata": {
    "application/vnd.databricks.v1+cell": {
     "cellMetadata": {
      "byteLimit": 2048000,
      "rowLimit": 10000
     },
     "inputWidgets": {},
     "nuid": "2d170782-f1a5-4182-aa11-57a03edaaefb",
     "showTitle": false,
     "tableResultSettingsMap": {},
     "title": ""
    }
   },
   "outputs": [],
   "source": [
    "# parallel_tasks = parallel_tasks[0:2]\n",
    "\n",
    "# Execute tasks in parallel\n",
    "with ThreadPoolExecutor(max_workers=max_workers) as executor:\n",
    "    future_to_task = {\n",
    "        executor.submit(\n",
    "            execute_with_error_handling,\n",
    "            task[\"func\"],\n",
    "            task[\"name\"],\n",
    "            *task[\"args\"]\n",
    "        ): task[\"name\"]\n",
    "        for task in parallel_tasks\n",
    "    }\n",
    "\n",
    "    for future in as_completed(future_to_task):\n",
    "        task_name = future_to_task[future]\n",
    "        success, result, error = future.result()\n",
    "        results[task_name] = {\"success\": success, \"error\": error}\n",
    "\n",
    "        print(\"=\" * 80)\n",
    "        print(task_name, success, result, error)\n",
    "        print(\"=\" * 80)"
   ]
  },
  {
   "cell_type": "code",
   "execution_count": 0,
   "metadata": {
    "application/vnd.databricks.v1+cell": {
     "cellMetadata": {
      "byteLimit": 2048000,
      "rowLimit": 10000
     },
     "inputWidgets": {},
     "nuid": "f000a0f2-a5a8-4dd8-81d6-e7397238d4d9",
     "showTitle": false,
     "tableResultSettingsMap": {},
     "title": ""
    }
   },
   "outputs": [],
   "source": [
    "# ============================================\n",
    "# Summary Report\n",
    "# ============================================\n",
    "print(\"=\" * 80)\n",
    "print(\"📈 EXECUTION SUMMARY\")\n",
    "print(\"=\" * 80)\n",
    "\n",
    "total_tasks = len(results)\n",
    "successful_tasks = sum(1 for r in results.values() if r[\"success\"])\n",
    "failed_tasks = total_tasks - successful_tasks\n",
    "\n",
    "print(f\"✅ Successful: {successful_tasks}/{total_tasks}\")\n",
    "print(f\"❌ Failed: {failed_tasks}/{total_tasks}\")\n",
    "print()\n",
    "\n",
    "if failed_tasks > 0:\n",
    "    print(\"❌ Failed Modules:\")\n",
    "    for module, result in results.items():\n",
    "        if not result[\"success\"]:\n",
    "            print(f\"  - {module}\")\n",
    "            if result[\"error\"]:\n",
    "                print(f\"    Error: {result['error'][:200]}...\")\n",
    "\n",
    "print(\"=\" * 80)"
   ]
  },
  {
   "cell_type": "code",
   "execution_count": 0,
   "metadata": {
    "application/vnd.databricks.v1+cell": {
     "cellMetadata": {
      "byteLimit": 2048000,
      "rowLimit": 10000
     },
     "inputWidgets": {},
     "nuid": "bb9c56b2-de9c-4b27-b1fa-d58601f0eb1c",
     "showTitle": false,
     "tableResultSettingsMap": {},
     "title": ""
    }
   },
   "outputs": [],
   "source": [
    "results.items()"
   ]
  }
 ],
 "metadata": {
  "application/vnd.databricks.v1+notebook": {
   "computePreferences": {
    "hardware": {
     "accelerator": null,
     "gpuPoolId": null,
     "memory": null
    }
   },
   "dashboards": [],
   "environmentMetadata": {
    "base_environment": "dbe_053a50e8-a70d-4683-bdc4-f45d512682bd",
    "environment_version": "1"
   },
   "inputWidgetPreferences": null,
   "language": "python",
   "notebookMetadata": {
    "mostRecentlyExecutedCommandWithImplicitDF": {
     "commandId": 8572308227532547,
     "dataframes": [
      "_sqldf"
     ]
    },
    "pythonIndentUnit": 4
   },
   "notebookName": "(OFC) Paralell freeport",
   "widgets": {
    "client_name": {
     "currentValue": "testblueprints",
     "nuid": "e35676a3-3d83-4dcc-935b-379765bb33a9",
     "typedWidgetInfo": {
      "autoCreated": false,
      "defaultValue": "",
      "label": "",
      "name": "client_name",
      "options": {
       "widgetDisplayType": "Text",
       "validationRegex": null
      },
      "parameterDataType": "String"
     },
     "widgetInfo": {
      "widgetType": "text",
      "defaultValue": "",
      "label": "",
      "name": "client_name",
      "options": {
       "widgetType": "text",
       "autoCreated": false,
       "validationRegex": null
      }
     }
    }
   }
  },
  "language_info": {
   "name": "python"
  }
 },
 "nbformat": 4,
 "nbformat_minor": 0
}
